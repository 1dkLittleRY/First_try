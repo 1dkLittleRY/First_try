{
 "cells": [
  {
   "cell_type": "code",
   "execution_count": 3,
   "metadata": {},
   "outputs": [],
   "source": [
    "import numpy as np\n",
    "from matplotlib import pyplot as plt\n"
   ]
  },
  {
   "cell_type": "code",
   "execution_count": 156,
   "metadata": {},
   "outputs": [
    {
     "data": {
      "text/plain": [
       "[<matplotlib.lines.Line2D at 0x1ab2a1b3ec8>]"
      ]
     },
     "execution_count": 156,
     "metadata": {},
     "output_type": "execute_result"
    },
    {
     "data": {
      "image/png": "[encoded data removed]",
      "text/plain": [
       "<Figure size 432x288 with 1 Axes>"
      ]
     },
     "metadata": {
      "needs_background": "light"
     },
     "output_type": "display_data"
    }
   ],
   "source": [
    "SEED = 222\n",
    "amp_data = np.load('./data/amp_data.npz')['amp_data']\n",
    "C = amp_data.shape[0]/21\n",
    "resi = amp_data.shape[0]%21\n",
    "amp_data_re = amp_data[:-resi]\n",
    "amp_data_re = amp_data_re.reshape(int(C),21)\n",
    "np.random.seed(SEED)\n",
    "amp_data_shuffle = np.random.permutation(amp_data_re)\n",
    "def gen_dataset(train,val,test,length):\n",
    "    X_shuf_train = amp_data_shuffle[:int(amp_data_shuffle.shape[0]*train),:length]\n",
    "    y_shuf_train = amp_data_shuffle[:int(amp_data_shuffle.shape[0]*train),length:length+1]\n",
    "    X_shuf_val = amp_data_shuffle[int(amp_data_shuffle.shape[0]*train):int(amp_data_shuffle.shape[0]*(train+val)),:length]\n",
    "    y_shuf_val = amp_data_shuffle[int(amp_data_shuffle.shape[0]*train):int(amp_data_shuffle.shape[0]*(train+val)),length:length+1]\n",
    "    X_shuf_test = amp_data_shuffle[int(amp_data_shuffle.shape[0]*test):,:length]\n",
    "    y_shuf_test = amp_data_shuffle[int(amp_data_shuffle.shape[0]*test):,length:length+1]\n",
    "    return X_shuf_train,y_shuf_train,X_shuf_val,y_shuf_val,X_shuf_test,y_shuf_test\n",
    "X_shuf_train,y_shuf_train,X_shuf_val,y_shuf_val,X_shuf_test,y_shuf_test = gen_dataset(0.7,0.15,0.15,20)\n",
    "time = np.c_[0:1:1/20]\n",
    "one_line_data = X_shuf_train[0,:]\n",
    "one_y = y_shuf_train[0]\n",
    "time_plot = np.c_[0:1+1/20:1/20]\n",
    "plt.xlabel('time')\n",
    "plt.ylabel('data')\n",
    "plt.plot(time,one_line_data,'+')"
   ]
  },
  {
   "cell_type": "code",
   "execution_count": 160,
   "metadata": {},
   "outputs": [],
   "source": [
    "def Phi(C,K):    \n",
    "    temp = np.c_[0:1:1/20]\n",
    "    cc = temp[20-C:]\n",
    "    i=0\n",
    "    phi = np.power(cc,i)\n",
    "    i=1\n",
    "    while (i < K):\n",
    "        temp = np.power(cc,i)\n",
    "        phi = np.c_[phi,temp]\n",
    "        i = i+1\n",
    "    return phi"
   ]
  },
  {
   "cell_type": "code",
   "execution_count": 206,
   "metadata": {},
   "outputs": [],
   "source": [
    "def make_vv(C,K):\n",
    "    phi_1 = np.ones([K,1])\n",
    "    PHI = Phi(C,K)\n",
    "#     print(np.linalg.pinv(PHI.T@PHI))\n",
    "    vv = PHI@(np.linalg.pinv(PHI.T@PHI))@phi_1\n",
    "    return vv"
   ]
  },
  {
   "cell_type": "code",
   "execution_count": 200,
   "metadata": {},
   "outputs": [
    {
     "name": "stdout",
     "output_type": "stream",
     "text": [
      "[[ 0.18571429 -0.28571429]\n",
      " [-0.28571429  0.60150376]]\n"
     ]
    },
    {
     "data": {
      "text/plain": [
       "array([0.01164936])"
      ]
     },
     "execution_count": 200,
     "metadata": {},
     "output_type": "execute_result"
    }
   ],
   "source": [
    "vv_linear = make_vv(20,2)\n",
    "predict = vv_linear.T@one_line_data\n",
    "predict"
   ]
  },
  {
   "cell_type": "code",
   "execution_count": 202,
   "metadata": {},
   "outputs": [
    {
     "name": "stdout",
     "output_type": "stream",
     "text": [
      "[[ 8.46798419e-01 -1.46448221e+01  7.88735178e+01 -1.80790514e+02\n",
      "   1.84980237e+02 -6.95652174e+01]\n",
      " [-1.46448221e+01  4.56631372e+02 -3.04437476e+03  7.81126004e+03\n",
      "  -8.57240952e+03  3.38169037e+03]\n",
      " [ 7.88735178e+01 -3.04437476e+03  2.21494908e+04 -5.98130280e+04\n",
      "   6.79128749e+04 -2.74509804e+04]\n",
      " [-1.80790514e+02  7.81126004e+03 -5.98130280e+04  1.66876981e+05\n",
      "  -1.93892893e+05  7.97355708e+04]\n",
      " [ 1.84980237e+02 -8.57240952e+03  6.79128749e+04 -1.93892893e+05\n",
      "   2.29148396e+05 -9.54816709e+04]\n",
      " [-6.95652174e+01  3.38169037e+03 -2.74509804e+04  7.97355708e+04\n",
      "  -9.54816709e+04  4.02028088e+04]]\n"
     ]
    },
    {
     "data": {
      "text/plain": [
       "array([0.01124827])"
      ]
     },
     "execution_count": 202,
     "metadata": {},
     "output_type": "execute_result"
    }
   ],
   "source": [
    "vv_quartic = make_vv(20,6)\n",
    "predict = vv_quartic.T@one_line_data\n",
    "predict"
   ]
  },
  {
   "cell_type": "code",
   "execution_count": 204,
   "metadata": {},
   "outputs": [],
   "source": [
    "def Evaluate(min_C,max_C,min_K,max_K,N):\n",
    "#   min_C,max_C :from which number to try and to which number to stop\n",
    "#   min_K,max_K :from which number to try and to which number to stop\n",
    "#   N: use N diferent context of length C\n",
    "    temp_square_error = 0\n",
    "    i,j = min_C,min_K\n",
    "    outcome = []\n",
    "    n = 0\n",
    "    while(i < max_C) :\n",
    "        X_shuf_train,y_shuf_train = gen_dataset(0.7,0.15,0.15,i)\n",
    "        print('1C loop over')\n",
    "        j = min_K\n",
    "        while(j < max_K) :\n",
    "            print('1K loop over')\n",
    "            temp_square_error = 0\n",
    "            vv = make_vv(i,j)\n",
    "            n = 0\n",
    "            while(n < N) :\n",
    "                one_line_data = X_shuf_train[n,:]\n",
    "                one_y = y_shuf_train[n]\n",
    "                try:\n",
    "                    temp_square_error = temp_square_error+(one_y-vv.T@one_line_data)**2\n",
    "                except ValueError:\n",
    "                    print([i,j,temp_square_error])\n",
    "                    print(outcome)\n",
    "                n = n+1\n",
    "            outcome.append([i,j,temp_square_error])\n",
    "            j = j +1\n",
    "        i = i +1\n",
    "    print(outcome)"
   ]
  },
  {
   "cell_type": "code",
   "execution_count": 208,
   "metadata": {},
   "outputs": [
    {
     "ename": "ValueError",
     "evalue": "matmul: Input operand 1 has a mismatch in its core dimension 0, with gufunc signature (n?,k),(k,m?)->(n?,m?) (size 21 is different from 6)",
     "output_type": "error",
     "traceback": [
      "\u001b[1;31m---------------------------------------------------------------------------\u001b[0m",
      "\u001b[1;31mValueError\u001b[0m                                Traceback (most recent call last)",
      "\u001b[1;32m<ipython-input-208-c487967bbf9f>\u001b[0m in \u001b[0;36m<module>\u001b[1;34m\u001b[0m\n\u001b[1;32m----> 1\u001b[1;33m \u001b[0mEvaluate\u001b[0m\u001b[1;33m(\u001b[0m\u001b[1;36m26\u001b[0m\u001b[1;33m,\u001b[0m\u001b[1;36m27\u001b[0m\u001b[1;33m,\u001b[0m\u001b[1;36m2\u001b[0m\u001b[1;33m,\u001b[0m\u001b[1;36m3\u001b[0m\u001b[1;33m,\u001b[0m\u001b[1;36m20\u001b[0m\u001b[1;33m)\u001b[0m\u001b[1;33m\u001b[0m\u001b[1;33m\u001b[0m\u001b[0m\n\u001b[0m",
      "\u001b[1;32m<ipython-input-204-2a4ba4114635>\u001b[0m in \u001b[0;36mEvaluate\u001b[1;34m(min_C, max_C, min_K, max_K, N)\u001b[0m\n\u001b[0;32m     15\u001b[0m                 \u001b[0mone_line_data\u001b[0m \u001b[1;33m=\u001b[0m \u001b[0mX_shuf_train\u001b[0m\u001b[1;33m[\u001b[0m\u001b[0mn\u001b[0m\u001b[1;33m,\u001b[0m\u001b[1;33m:\u001b[0m\u001b[1;33m]\u001b[0m\u001b[1;33m\u001b[0m\u001b[1;33m\u001b[0m\u001b[0m\n\u001b[0;32m     16\u001b[0m                 \u001b[0mone_y\u001b[0m \u001b[1;33m=\u001b[0m \u001b[0my_shuf_train\u001b[0m\u001b[1;33m[\u001b[0m\u001b[0mn\u001b[0m\u001b[1;33m]\u001b[0m\u001b[1;33m\u001b[0m\u001b[1;33m\u001b[0m\u001b[0m\n\u001b[1;32m---> 17\u001b[1;33m                 \u001b[0mtemp_square_error\u001b[0m \u001b[1;33m=\u001b[0m \u001b[0mtemp_square_error\u001b[0m\u001b[1;33m+\u001b[0m\u001b[1;33m(\u001b[0m\u001b[0mone_y\u001b[0m\u001b[1;33m-\u001b[0m\u001b[0mvv\u001b[0m\u001b[1;33m.\u001b[0m\u001b[0mT\u001b[0m\u001b[1;33m@\u001b[0m\u001b[0mone_line_data\u001b[0m\u001b[1;33m)\u001b[0m\u001b[1;33m**\u001b[0m\u001b[1;36m2\u001b[0m\u001b[1;33m\u001b[0m\u001b[1;33m\u001b[0m\u001b[0m\n\u001b[0m\u001b[0;32m     18\u001b[0m             \u001b[0moutcome\u001b[0m\u001b[1;33m.\u001b[0m\u001b[0mappend\u001b[0m\u001b[1;33m(\u001b[0m\u001b[1;33m[\u001b[0m\u001b[0mi\u001b[0m\u001b[1;33m,\u001b[0m\u001b[0mj\u001b[0m\u001b[1;33m,\u001b[0m\u001b[0mtemp_square_error\u001b[0m\u001b[1;33m]\u001b[0m\u001b[1;33m)\u001b[0m\u001b[1;33m\u001b[0m\u001b[1;33m\u001b[0m\u001b[0m\n\u001b[0;32m     19\u001b[0m     \u001b[0mprint\u001b[0m\u001b[1;33m(\u001b[0m\u001b[0moutcome\u001b[0m\u001b[1;33m)\u001b[0m\u001b[1;33m\u001b[0m\u001b[1;33m\u001b[0m\u001b[0m\n",
      "\u001b[1;31mValueError\u001b[0m: matmul: Input operand 1 has a mismatch in its core dimension 0, with gufunc signature (n?,k),(k,m?)->(n?,m?) (size 21 is different from 6)"
     ]
    }
   ],
   "source": [
    "Evaluate(26,27,2,3,20)"
   ]
  },
  {
   "cell_type": "code",
   "execution_count": null,
   "metadata": {},
   "outputs": [],
   "source": [
    "# This is a sample Python script.\n",
    "\n",
    "# Press Shift+F10 to execute it or replace it with your code.\n",
    "# Press Double Shift to search everywhere for classes, files, tool windows, actions, and settings.\n",
    "import numpy as np\n",
    "from matplotlib import pyplot as plt\n",
    "SEED = 444\n",
    "amp_data = np.load('./data/amp_data.npz')['amp_data']\n",
    "def gen_dataset(train,val,test,length):\n",
    "    C = amp_data.shape[0] / (length+1)\n",
    "    resi = amp_data.shape[0] % (length+1)\n",
    "    if(resi == 0):\n",
    "        amp_data_re = amp_data[:]\n",
    "    else:\n",
    "        amp_data_re = amp_data[:-resi]\n",
    "    amp_data_re = amp_data_re.reshape(int(C), length+1)\n",
    "    np.random.seed(SEED)\n",
    "    amp_data_shuffle = np.random.permutation(amp_data_re)\n",
    "    X_shuf_train = amp_data_shuffle[:int(amp_data_shuffle.shape[0]*train),:length]\n",
    "    y_shuf_train = amp_data_shuffle[:int(amp_data_shuffle.shape[0]*train),length:length+1]\n",
    "    return X_shuf_train,y_shuf_train\n",
    "\n",
    "def Phi(C,K):\n",
    "    temp = np.c_[0:1:1/20]\n",
    "    cc = temp[20-C:]\n",
    "    i=0\n",
    "    phi = np.power(cc,i)\n",
    "    i=1\n",
    "    while (i < K):\n",
    "        temp = np.power(cc,i)\n",
    "        phi = np.c_[phi,temp]\n",
    "        i = i+1\n",
    "    return phi\n",
    "def make_vv(C,K):\n",
    "    phi_1 = np.ones([K,1])\n",
    "    PHI = Phi(C,K)\n",
    "    vv = PHI@(np.linalg.pinv(PHI.T@PHI))@phi_1\n",
    "    return vv\n",
    "def Evaluate(min_C,max_C,min_K,max_K):\n",
    "#   min_C,max_C :from which number to try and to which number to stop\n",
    "#   min_K,max_K :from which number to try and to which number to stop\n",
    "#   N: use N diferent context of length C\n",
    "    temp_square_error = 0\n",
    "    i,j = min_C,min_K\n",
    "    outcome = []\n",
    "    n = 0\n",
    "    while(i <= max_C) :\n",
    "        X_shuf_train,y_shuf_train = gen_dataset(0.7,0.15,0.15,i)\n",
    "        N = X_shuf_train.shape[0]\n",
    "        j = min_K\n",
    "        while(j <= max_K) :\n",
    "            temp_square_error = 0\n",
    "            vv = make_vv(i,j)\n",
    "            n = 0\n",
    "            while(n < N) :\n",
    "                one_line_data = X_shuf_train[n,:]\n",
    "                one_y = y_shuf_train[n]\n",
    "                try:\n",
    "                    temp_square_error = temp_square_error+(one_y-vv.T@one_line_data)**2\n",
    "                except ValueError:\n",
    "                    print([i,j,temp_square_error])\n",
    "                    print(outcome)\n",
    "                n = n+1\n",
    "            outcome.append([i,j,temp_square_error/N])\n",
    "            j = j +1\n",
    "        i = i +1\n",
    "    min_se = 1000\n",
    "    fori = 0\n",
    "    while(fori < len(outcome)):\n",
    "        if(min_se > outcome[fori][2]):\n",
    "            min_se = outcome[fori][2]\n",
    "            print(outcome[fori][0],outcome[fori][1],min_se)\n",
    "        fori = fori+1\n",
    "if __name__ == '__main__':\n",
    "    Evaluate(3,20,2,9)"
   ]
  }
 ],
 "metadata": {
  "kernelspec": {
   "display_name": "Python 3",
   "language": "python",
   "name": "python3"
  },
  "language_info": {
   "codemirror_mode": {
    "name": "ipython",
    "version": 3
   },
   "file_extension": ".py",
   "mimetype": "text/x-python",
   "name": "python",
   "nbconvert_exporter": "python",
   "pygments_lexer": "ipython3",
   "version": "3.7.4"
  }
 },
 "nbformat": 4,
 "nbformat_minor": 2
}
